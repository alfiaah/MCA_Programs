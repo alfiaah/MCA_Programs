{
  "cells": [
    {
      "cell_type": "code",
      "execution_count": null,
      "id": "933a76ad-1574-4b4a-93de-cd9f2a82cbff",
      "metadata": {
        "id": "933a76ad-1574-4b4a-93de-cd9f2a82cbff"
      },
      "outputs": [],
      "source": [
        "import numpy as np\n"
      ]
    },
    {
      "cell_type": "code",
      "execution_count": null,
      "id": "7e5018b1-ddd2-4c4c-8187-2c4ddceed729",
      "metadata": {
        "id": "7e5018b1-ddd2-4c4c-8187-2c4ddceed729",
        "outputId": "392b4f41-cb4d-4fe9-c9a2-af9732682d4d"
      },
      "outputs": [
        {
          "name": "stdout",
          "output_type": "stream",
          "text": [
            "Zero_Dimension Array: \n",
            " 5\n"
          ]
        }
      ],
      "source": [
        "arr0=np.array(5)\n",
        "print(\"Zero_Dimension Array: \\n\",arr0)"
      ]
    },
    {
      "cell_type": "code",
      "execution_count": null,
      "id": "601cf96e-b1ca-4b31-a7b6-f6e214e4027d",
      "metadata": {
        "id": "601cf96e-b1ca-4b31-a7b6-f6e214e4027d",
        "outputId": "59145b37-4979-4d08-d3b9-cf7c991d7ac8"
      },
      "outputs": [
        {
          "name": "stdout",
          "output_type": "stream",
          "text": [
            "One_Dimension Array: \n",
            " [1 2 3]\n"
          ]
        }
      ],
      "source": [
        "arr1 = np.array([1, 2, 3])\n",
        "print(\"One_Dimension Array: \\n\",arr1)"
      ]
    },
    {
      "cell_type": "code",
      "execution_count": null,
      "id": "5ee36f0c-ca47-48bd-af32-3aa0fae48c47",
      "metadata": {
        "id": "5ee36f0c-ca47-48bd-af32-3aa0fae48c47",
        "outputId": "15eb3dd8-5dc7-4ed4-d38b-f7ccd079c422"
      },
      "outputs": [
        {
          "name": "stdout",
          "output_type": "stream",
          "text": [
            "Two Dimensional Array: \n",
            " [[1 2 3]\n",
            " [4 5 6]]\n"
          ]
        }
      ],
      "source": [
        "arr2 = np.array([[1, 2, 3],[4, 5, 6]])\n",
        "print(\"Two Dimensional Array: \\n\", arr2)\n"
      ]
    },
    {
      "cell_type": "code",
      "execution_count": null,
      "id": "a4361db4-70f3-4b2f-80c9-a2d7cf130466",
      "metadata": {
        "id": "a4361db4-70f3-4b2f-80c9-a2d7cf130466",
        "outputId": "b98438ac-8e4b-48e5-a551-77687ff9d1fb"
      },
      "outputs": [
        {
          "name": "stdout",
          "output_type": "stream",
          "text": [
            "Three Dimensional Array: \n",
            " [[1 2 3]\n",
            " [4 5 6]\n",
            " [7 8 9]]\n"
          ]
        }
      ],
      "source": [
        "arr3= np.array([[1, 2, 3],[4, 5, 6],[7,8,9]])\n",
        "print(\"Three Dimensional Array: \\n\", arr3)\n"
      ]
    },
    {
      "cell_type": "code",
      "execution_count": null,
      "id": "9c32d767-b1b3-4ecf-b81a-f2343881447c",
      "metadata": {
        "id": "9c32d767-b1b3-4ecf-b81a-f2343881447c",
        "outputId": "3a3545f1-8ea5-4542-9d54-51fc838f2b61"
      },
      "outputs": [
        {
          "name": "stdout",
          "output_type": "stream",
          "text": [
            "Three Dimensional Array: \n",
            " [[ 1  2  3]\n",
            " [ 4  5  6]\n",
            " [ 7  8  9]\n",
            " [10 11 12]]\n"
          ]
        }
      ],
      "source": [
        "arr4= np.array([[1, 2, 3],[4, 5, 6],[7,8,9],[10,11,12]])\n",
        "print(\"Four Dimensional Array: \\n\", arr4)\n"
      ]
    },
    {
      "cell_type": "code",
      "execution_count": null,
      "id": "224fa837-9fb5-407c-b964-460456f9d44b",
      "metadata": {
        "id": "224fa837-9fb5-407c-b964-460456f9d44b",
        "outputId": "bd478ea9-acff-49c9-ab6c-92c1487fcfd2"
      },
      "outputs": [
        {
          "name": "stdout",
          "output_type": "stream",
          "text": [
            "Five Dimensional Array: \n",
            " [[ 1  2  3]\n",
            " [ 4  5  6]\n",
            " [ 7  8  9]\n",
            " [10 11 12]\n",
            " [13 14 15]]\n"
          ]
        }
      ],
      "source": [
        "arr5= np.array([[1, 2, 3],[4, 5, 6],[7,8,9],[10,11,12],[13,14,15]])\n",
        "print(\"Five Dimensional Array: \\n\", arr5)\n"
      ]
    },
    {
      "cell_type": "code",
      "execution_count": null,
      "id": "08311ee1-1ba4-40ef-9b0d-ebe6417462c5",
      "metadata": {
        "id": "08311ee1-1ba4-40ef-9b0d-ebe6417462c5"
      },
      "outputs": [],
      "source": []
    }
  ],
  "metadata": {
    "kernelspec": {
      "display_name": "Python 3 (ipykernel)",
      "language": "python",
      "name": "python3"
    },
    "language_info": {
      "codemirror_mode": {
        "name": "ipython",
        "version": 3
      },
      "file_extension": ".py",
      "mimetype": "text/x-python",
      "name": "python",
      "nbconvert_exporter": "python",
      "pygments_lexer": "ipython3",
      "version": "3.9.7"
    },
    "colab": {
      "provenance": []
    }
  },
  "nbformat": 4,
  "nbformat_minor": 5
}