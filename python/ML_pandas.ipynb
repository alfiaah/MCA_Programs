{
  "nbformat": 4,
  "nbformat_minor": 0,
  "metadata": {
    "colab": {
      "provenance": []
    },
    "kernelspec": {
      "name": "python3",
      "display_name": "Python 3"
    },
    "language_info": {
      "name": "python"
    }
  },
  "cells": [
    {
      "cell_type": "code",
      "source": [],
      "metadata": {
        "id": "E3CvunhHJv8v"
      },
      "execution_count": null,
      "outputs": []
    },
    {
      "cell_type": "code",
      "source": [
        "import pandas\n",
        "from sklearn import linear_model\n",
        "from sklearn.linear_model import LinearRegression\n",
        "from sklearn.preprocessing import StandardScaler\n",
        "\n",
        "df = pandas.read_csv(\"data2.csv\")\n",
        "df.head()\n",
        "df.info()\n",
        "print(df)\n",
        "\n",
        "X = df[['Weight', 'Volume']]\n",
        "y = df['CO2']\n",
        "\n",
        "print(df.head)\n",
        "\n",
        "scale=StandardScaler()\n",
        "scaleX=scale.fit_transform(X)\n",
        "\n",
        "regr = linear_model.LinearRegression()\n",
        "regr.fit(scaleX, y)"
      ],
      "metadata": {
        "colab": {
          "base_uri": "https://localhost:8080/",
          "height": 1000
        },
        "id": "BO7yKFg_Iytf",
        "outputId": "905681c7-480b-49ca-f733-8de963f77358"
      },
      "execution_count": null,
      "outputs": [
        {
          "output_type": "stream",
          "name": "stdout",
          "text": [
            "<class 'pandas.core.frame.DataFrame'>\n",
            "RangeIndex: 36 entries, 0 to 35\n",
            "Data columns (total 5 columns):\n",
            " #   Column  Non-Null Count  Dtype  \n",
            "---  ------  --------------  -----  \n",
            " 0   Car     36 non-null     object \n",
            " 1   Model   36 non-null     object \n",
            " 2   Volume  36 non-null     float64\n",
            " 3   Weight  36 non-null     int64  \n",
            " 4   CO2     36 non-null     int64  \n",
            "dtypes: float64(1), int64(2), object(2)\n",
            "memory usage: 1.5+ KB\n",
            "           Car       Model  Volume  Weight  CO2\n",
            "0       Toyoty        Aygo     1.0     790   99\n",
            "1   Mitsubishi  Space Star     1.2    1160   95\n",
            "2        Skoda      Citigo     1.0     929   95\n",
            "3         Fiat         500     0.9     865   90\n",
            "4         Mini      Cooper     1.5    1140  105\n",
            "5           VW         Up!     1.0     929  105\n",
            "6        Skoda       Fabia     1.4    1109   90\n",
            "7     Mercedes     A-Class     1.5    1365   92\n",
            "8         Ford      Fiesta     1.5    1112   98\n",
            "9         Audi          A1     1.6    1150   99\n",
            "10     Hyundai         I20     1.1     980   99\n",
            "11      Suzuki       Swift     1.3     990  101\n",
            "12        Ford      Fiesta     1.0    1112   99\n",
            "13       Honda       Civic     1.6    1252   94\n",
            "14      Hundai         I30     1.6    1326   97\n",
            "15        Opel       Astra     1.6    1330   97\n",
            "16         BMW           1     1.6    1365   99\n",
            "17       Mazda           3     2.2    1280  104\n",
            "18       Skoda       Rapid     1.6    1119  104\n",
            "19        Ford       Focus     2.0    1328  105\n",
            "20        Ford      Mondeo     1.6    1584   94\n",
            "21        Opel    Insignia     2.0    1428   99\n",
            "22    Mercedes     C-Class     2.1    1365   99\n",
            "23       Skoda     Octavia     1.6    1415   99\n",
            "24       Volvo         S60     2.0    1415   99\n",
            "25    Mercedes         CLA     1.5    1465  102\n",
            "26        Audi          A4     2.0    1490  104\n",
            "27        Audi          A6     2.0    1725  114\n",
            "28       Volvo         V70     1.6    1523  109\n",
            "29         BMW           5     2.0    1705  114\n",
            "30    Mercedes     E-Class     2.1    1605  115\n",
            "31       Volvo        XC70     2.0    1746  117\n",
            "32        Ford       B-Max     1.6    1235  104\n",
            "33         BMW         216     1.6    1390  108\n",
            "34        Opel      Zafira     1.6    1405  109\n",
            "35    Mercedes         SLK     2.5    1395  120\n",
            "<bound method NDFrame.head of            Car       Model  Volume  Weight  CO2\n",
            "0       Toyoty        Aygo     1.0     790   99\n",
            "1   Mitsubishi  Space Star     1.2    1160   95\n",
            "2        Skoda      Citigo     1.0     929   95\n",
            "3         Fiat         500     0.9     865   90\n",
            "4         Mini      Cooper     1.5    1140  105\n",
            "5           VW         Up!     1.0     929  105\n",
            "6        Skoda       Fabia     1.4    1109   90\n",
            "7     Mercedes     A-Class     1.5    1365   92\n",
            "8         Ford      Fiesta     1.5    1112   98\n",
            "9         Audi          A1     1.6    1150   99\n",
            "10     Hyundai         I20     1.1     980   99\n",
            "11      Suzuki       Swift     1.3     990  101\n",
            "12        Ford      Fiesta     1.0    1112   99\n",
            "13       Honda       Civic     1.6    1252   94\n",
            "14      Hundai         I30     1.6    1326   97\n",
            "15        Opel       Astra     1.6    1330   97\n",
            "16         BMW           1     1.6    1365   99\n",
            "17       Mazda           3     2.2    1280  104\n",
            "18       Skoda       Rapid     1.6    1119  104\n",
            "19        Ford       Focus     2.0    1328  105\n",
            "20        Ford      Mondeo     1.6    1584   94\n",
            "21        Opel    Insignia     2.0    1428   99\n",
            "22    Mercedes     C-Class     2.1    1365   99\n",
            "23       Skoda     Octavia     1.6    1415   99\n",
            "24       Volvo         S60     2.0    1415   99\n",
            "25    Mercedes         CLA     1.5    1465  102\n",
            "26        Audi          A4     2.0    1490  104\n",
            "27        Audi          A6     2.0    1725  114\n",
            "28       Volvo         V70     1.6    1523  109\n",
            "29         BMW           5     2.0    1705  114\n",
            "30    Mercedes     E-Class     2.1    1605  115\n",
            "31       Volvo        XC70     2.0    1746  117\n",
            "32        Ford       B-Max     1.6    1235  104\n",
            "33         BMW         216     1.6    1390  108\n",
            "34        Opel      Zafira     1.6    1405  109\n",
            "35    Mercedes         SLK     2.5    1395  120>\n"
          ]
        },
        {
          "output_type": "execute_result",
          "data": {
            "text/plain": [
              "LinearRegression()"
            ],
            "text/html": [
              "<style>#sk-container-id-10 {color: black;}#sk-container-id-10 pre{padding: 0;}#sk-container-id-10 div.sk-toggleable {background-color: white;}#sk-container-id-10 label.sk-toggleable__label {cursor: pointer;display: block;width: 100%;margin-bottom: 0;padding: 0.3em;box-sizing: border-box;text-align: center;}#sk-container-id-10 label.sk-toggleable__label-arrow:before {content: \"▸\";float: left;margin-right: 0.25em;color: #696969;}#sk-container-id-10 label.sk-toggleable__label-arrow:hover:before {color: black;}#sk-container-id-10 div.sk-estimator:hover label.sk-toggleable__label-arrow:before {color: black;}#sk-container-id-10 div.sk-toggleable__content {max-height: 0;max-width: 0;overflow: hidden;text-align: left;background-color: #f0f8ff;}#sk-container-id-10 div.sk-toggleable__content pre {margin: 0.2em;color: black;border-radius: 0.25em;background-color: #f0f8ff;}#sk-container-id-10 input.sk-toggleable__control:checked~div.sk-toggleable__content {max-height: 200px;max-width: 100%;overflow: auto;}#sk-container-id-10 input.sk-toggleable__control:checked~label.sk-toggleable__label-arrow:before {content: \"▾\";}#sk-container-id-10 div.sk-estimator input.sk-toggleable__control:checked~label.sk-toggleable__label {background-color: #d4ebff;}#sk-container-id-10 div.sk-label input.sk-toggleable__control:checked~label.sk-toggleable__label {background-color: #d4ebff;}#sk-container-id-10 input.sk-hidden--visually {border: 0;clip: rect(1px 1px 1px 1px);clip: rect(1px, 1px, 1px, 1px);height: 1px;margin: -1px;overflow: hidden;padding: 0;position: absolute;width: 1px;}#sk-container-id-10 div.sk-estimator {font-family: monospace;background-color: #f0f8ff;border: 1px dotted black;border-radius: 0.25em;box-sizing: border-box;margin-bottom: 0.5em;}#sk-container-id-10 div.sk-estimator:hover {background-color: #d4ebff;}#sk-container-id-10 div.sk-parallel-item::after {content: \"\";width: 100%;border-bottom: 1px solid gray;flex-grow: 1;}#sk-container-id-10 div.sk-label:hover label.sk-toggleable__label {background-color: #d4ebff;}#sk-container-id-10 div.sk-serial::before {content: \"\";position: absolute;border-left: 1px solid gray;box-sizing: border-box;top: 0;bottom: 0;left: 50%;z-index: 0;}#sk-container-id-10 div.sk-serial {display: flex;flex-direction: column;align-items: center;background-color: white;padding-right: 0.2em;padding-left: 0.2em;position: relative;}#sk-container-id-10 div.sk-item {position: relative;z-index: 1;}#sk-container-id-10 div.sk-parallel {display: flex;align-items: stretch;justify-content: center;background-color: white;position: relative;}#sk-container-id-10 div.sk-item::before, #sk-container-id-10 div.sk-parallel-item::before {content: \"\";position: absolute;border-left: 1px solid gray;box-sizing: border-box;top: 0;bottom: 0;left: 50%;z-index: -1;}#sk-container-id-10 div.sk-parallel-item {display: flex;flex-direction: column;z-index: 1;position: relative;background-color: white;}#sk-container-id-10 div.sk-parallel-item:first-child::after {align-self: flex-end;width: 50%;}#sk-container-id-10 div.sk-parallel-item:last-child::after {align-self: flex-start;width: 50%;}#sk-container-id-10 div.sk-parallel-item:only-child::after {width: 0;}#sk-container-id-10 div.sk-dashed-wrapped {border: 1px dashed gray;margin: 0 0.4em 0.5em 0.4em;box-sizing: border-box;padding-bottom: 0.4em;background-color: white;}#sk-container-id-10 div.sk-label label {font-family: monospace;font-weight: bold;display: inline-block;line-height: 1.2em;}#sk-container-id-10 div.sk-label-container {text-align: center;}#sk-container-id-10 div.sk-container {/* jupyter's `normalize.less` sets `[hidden] { display: none; }` but bootstrap.min.css set `[hidden] { display: none !important; }` so we also need the `!important` here to be able to override the default hidden behavior on the sphinx rendered scikit-learn.org. See: https://github.com/scikit-learn/scikit-learn/issues/21755 */display: inline-block !important;position: relative;}#sk-container-id-10 div.sk-text-repr-fallback {display: none;}</style><div id=\"sk-container-id-10\" class=\"sk-top-container\"><div class=\"sk-text-repr-fallback\"><pre>LinearRegression()</pre><b>In a Jupyter environment, please rerun this cell to show the HTML representation or trust the notebook. <br />On GitHub, the HTML representation is unable to render, please try loading this page with nbviewer.org.</b></div><div class=\"sk-container\" hidden><div class=\"sk-item\"><div class=\"sk-estimator sk-toggleable\"><input class=\"sk-toggleable__control sk-hidden--visually\" id=\"sk-estimator-id-10\" type=\"checkbox\" checked><label for=\"sk-estimator-id-10\" class=\"sk-toggleable__label sk-toggleable__label-arrow\">LinearRegression</label><div class=\"sk-toggleable__content\"><pre>LinearRegression()</pre></div></div></div></div></div>"
            ]
          },
          "metadata": {},
          "execution_count": 23
        }
      ]
    },
    {
      "cell_type": "code",
      "execution_count": null,
      "metadata": {
        "colab": {
          "base_uri": "https://localhost:8080/"
        },
        "id": "GCDPL_rBIt7x",
        "outputId": "42b3c5f2-f132-4554-9eee-b51570a58c4d"
      },
      "outputs": [
        {
          "output_type": "stream",
          "name": "stdout",
          "text": [
            "[4252.11408899]\n",
            "[1.80269333 2.99358608]\n"
          ]
        }
      ],
      "source": [
        "#predict the CO2 emission of a car where the weight is 2300kg, and the volume is 1300cm3:\n",
        "predictedCO2 = regr.predict([[2300, 1.3]])\n",
        "\n",
        "print(predictedCO2)\n",
        "print(regr.coef_)"
      ]
    },
    {
      "cell_type": "code",
      "source": [],
      "metadata": {
        "id": "yTQj_-nfPHQY"
      },
      "execution_count": null,
      "outputs": []
    }
  ]
}