{
  "cells": [
    {
      "cell_type": "code",
      "execution_count": null,
      "id": "2905c0cd-7e20-4877-bdc4-5db723dd8630",
      "metadata": {
        "id": "2905c0cd-7e20-4877-bdc4-5db723dd8630"
      },
      "outputs": [],
      "source": [
        "import numpy as npy\n"
      ]
    },
    {
      "cell_type": "code",
      "execution_count": null,
      "id": "e49fc7ba-fb10-4982-9a58-18ad663ec4bc",
      "metadata": {
        "id": "e49fc7ba-fb10-4982-9a58-18ad663ec4bc",
        "outputId": "9456b0d1-ce49-405d-e822-a3de606fd972"
      },
      "outputs": [
        {
          "name": "stdout",
          "output_type": "stream",
          "text": [
            "Array: \n",
            " [1 2 3]\n",
            "Array: \n",
            " [1 2 3]\n",
            "Sum: \n",
            " [2 4 6]\n",
            "Array: \n",
            " [[1 2 3]\n",
            " [4 5 6]]\n"
          ]
        }
      ],
      "source": [
        "arr1 = npy.array([1, 2, 3])\n",
        "print(\"Array: \\n\",arr1)\n",
        "arr2 = npy.array([1, 2, 3])\n",
        "print(\"Array: \\n\",arr2)\n",
        "arr3=arr1+arr2\n",
        "\n",
        "print(\"Sum: \\n\",arr3)\n",
        "arry = npy.array([[1, 2, 3],[4, 5, 6]])\n",
        "print(\"Array: \\n\", arry)\n"
      ]
    },
    {
      "cell_type": "code",
      "execution_count": null,
      "id": "ef1de265-938d-4a58-85b8-c7efc3b64e26",
      "metadata": {
        "id": "ef1de265-938d-4a58-85b8-c7efc3b64e26"
      },
      "outputs": [],
      "source": []
    },
    {
      "cell_type": "code",
      "execution_count": null,
      "id": "e35b395d-1ee3-45da-8bbb-d43f72c064c8",
      "metadata": {
        "id": "e35b395d-1ee3-45da-8bbb-d43f72c064c8"
      },
      "outputs": [],
      "source": []
    }
  ],
  "metadata": {
    "kernelspec": {
      "display_name": "Python 3 (ipykernel)",
      "language": "python",
      "name": "python3"
    },
    "language_info": {
      "codemirror_mode": {
        "name": "ipython",
        "version": 3
      },
      "file_extension": ".py",
      "mimetype": "text/x-python",
      "name": "python",
      "nbconvert_exporter": "python",
      "pygments_lexer": "ipython3",
      "version": "3.9.7"
    },
    "colab": {
      "provenance": []
    }
  },
  "nbformat": 4,
  "nbformat_minor": 5
}